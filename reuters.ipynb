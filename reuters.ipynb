{
 "cells": [
  {
   "cell_type": "code",
   "execution_count": null,
   "metadata": {},
   "outputs": [],
   "source": [
    "from keras.datasets import reuters\n",
    "\n",
    "(train_data, train_labels), (test_data, test_labels) = reuters.load_data(\n",
    "num_words=10000)"
   ]
  },
  {
   "cell_type": "code",
   "execution_count": 2,
   "metadata": {},
   "outputs": [
    {
     "name": "stdout",
     "output_type": "stream",
     "text": [
      "? ? ? said as a result of its december acquisition of space co it expects earnings per share in 1987 of 1 15 to 1 30 dlrs per share up from 70 cts in 1986 the company said pretax net should rise to nine to 10 mln dlrs from six mln dlrs in 1986 and rental operation revenues to 19 to 22 mln dlrs from 12 5 mln dlrs it said cash flow per share this year should be 2 50 to three dlrs reuter 3\n"
     ]
    }
   ],
   "source": [
    "word_index = reuters.get_word_index()\n",
    "reverse_word_index = dict([(value, key) for (key, value) in word_index.items()])\n",
    "decoded_newswire = ' '.join([reverse_word_index.get(i - 3, '?') for i in\n",
    "train_data[0]])\n",
    "print(decoded_newswire)"
   ]
  },
  {
   "cell_type": "code",
   "execution_count": 3,
   "metadata": {},
   "outputs": [
    {
     "data": {
      "text/plain": [
       "3"
      ]
     },
     "execution_count": 3,
     "metadata": {},
     "output_type": "execute_result"
    }
   ],
   "source": [
    "train_labels[10]"
   ]
  },
  {
   "cell_type": "code",
   "execution_count": 4,
   "metadata": {},
   "outputs": [],
   "source": [
    "import numpy as np\n",
    "def vectorize_sequences(sequences, dimension=10000):\n",
    "    results = np.zeros((len(sequences), dimension))\n",
    "    for i, sequence in enumerate(sequences):\n",
    "        results[i, sequence] = 1.\n",
    "    return results\n",
    "\n",
    "x_train = vectorize_sequences(train_data)\n",
    "x_test = vectorize_sequences(test_data)"
   ]
  },
  {
   "cell_type": "code",
   "execution_count": 5,
   "metadata": {},
   "outputs": [],
   "source": [
    "from keras.utils.np_utils import to_categorical\n",
    "\n",
    "one_hot_train_labels = to_categorical(train_labels)\n",
    "one_hot_test_labels = to_categorical(test_labels)"
   ]
  },
  {
   "cell_type": "code",
   "execution_count": 6,
   "metadata": {},
   "outputs": [],
   "source": [
    "from keras import models\n",
    "from keras import layers\n",
    "model = models.Sequential()\n",
    "model.add(layers.Dense(64, activation='relu', input_shape=(10000,)))\n",
    "model.add(layers.Dense(64, activation='relu'))\n",
    "model.add(layers.Dense(46, activation='softmax'))\n",
    "model.compile(optimizer='rmsprop', loss='categorical_crossentropy', metrics=['accuracy'])"
   ]
  },
  {
   "cell_type": "code",
   "execution_count": 7,
   "metadata": {},
   "outputs": [],
   "source": [
    "x_val = x_train[:1000]\n",
    "partial_x_train = x_train[1000:]\n",
    "y_val = one_hot_train_labels[:1000]\n",
    "partial_y_train = one_hot_train_labels[1000:]"
   ]
  },
  {
   "cell_type": "code",
   "execution_count": 13,
   "metadata": {},
   "outputs": [
    {
     "name": "stdout",
     "output_type": "stream",
     "text": [
      "Train on 7982 samples, validate on 1000 samples\n",
      "Epoch 1/20\n",
      "7982/7982 [==============================] - 1s 82us/step - loss: 0.0924 - acc: 0.9585 - val_loss: 1.2270 - val_acc: 0.7920\n",
      "Epoch 2/20\n",
      "7982/7982 [==============================] - 1s 83us/step - loss: 0.0913 - acc: 0.9577 - val_loss: 1.2493 - val_acc: 0.7760\n",
      "Epoch 3/20\n",
      "7982/7982 [==============================] - 1s 83us/step - loss: 0.0908 - acc: 0.9579 - val_loss: 1.1834 - val_acc: 0.7960\n",
      "Epoch 4/20\n",
      "7982/7982 [==============================] - 1s 82us/step - loss: 0.0902 - acc: 0.9579 - val_loss: 1.2577 - val_acc: 0.7720\n",
      "Epoch 5/20\n",
      "7982/7982 [==============================] - 1s 82us/step - loss: 0.0901 - acc: 0.9570 - val_loss: 1.2696 - val_acc: 0.7820\n",
      "Epoch 6/20\n",
      "7982/7982 [==============================] - 1s 80us/step - loss: 0.0887 - acc: 0.9604 - val_loss: 1.2348 - val_acc: 0.8040\n",
      "Epoch 7/20\n",
      "7982/7982 [==============================] - 1s 81us/step - loss: 0.0859 - acc: 0.9597 - val_loss: 1.3146 - val_acc: 0.7860\n",
      "Epoch 8/20\n",
      "7982/7982 [==============================] - 1s 81us/step - loss: 0.0889 - acc: 0.9570 - val_loss: 1.2938 - val_acc: 0.7820\n",
      "Epoch 9/20\n",
      "7982/7982 [==============================] - 1s 83us/step - loss: 0.0839 - acc: 0.9587 - val_loss: 1.3235 - val_acc: 0.7900\n",
      "Epoch 10/20\n",
      "7982/7982 [==============================] - 1s 82us/step - loss: 0.0881 - acc: 0.9585 - val_loss: 1.2433 - val_acc: 0.7900\n",
      "Epoch 11/20\n",
      "7982/7982 [==============================] - 1s 91us/step - loss: 0.0819 - acc: 0.9595 - val_loss: 1.3110 - val_acc: 0.7850\n",
      "Epoch 12/20\n",
      "7982/7982 [==============================] - 1s 88us/step - loss: 0.0855 - acc: 0.9598 - val_loss: 1.3025 - val_acc: 0.7900\n",
      "Epoch 13/20\n",
      "7982/7982 [==============================] - 1s 82us/step - loss: 0.0841 - acc: 0.9592 - val_loss: 1.3205 - val_acc: 0.7780\n",
      "Epoch 14/20\n",
      "7982/7982 [==============================] - 1s 81us/step - loss: 0.0839 - acc: 0.9585 - val_loss: 1.2902 - val_acc: 0.7900\n",
      "Epoch 15/20\n",
      "7982/7982 [==============================] - 1s 81us/step - loss: 0.0808 - acc: 0.9575 - val_loss: 1.3619 - val_acc: 0.7830\n",
      "Epoch 16/20\n",
      "7982/7982 [==============================] - 1s 82us/step - loss: 0.0840 - acc: 0.9578 - val_loss: 1.3446 - val_acc: 0.7820\n",
      "Epoch 17/20\n",
      "7982/7982 [==============================] - 1s 82us/step - loss: 0.0815 - acc: 0.9597 - val_loss: 1.3126 - val_acc: 0.7850\n",
      "Epoch 18/20\n",
      "7982/7982 [==============================] - 1s 81us/step - loss: 0.0810 - acc: 0.9577 - val_loss: 1.3350 - val_acc: 0.7880\n",
      "Epoch 19/20\n",
      "7982/7982 [==============================] - 1s 82us/step - loss: 0.0821 - acc: 0.9590 - val_loss: 1.3271 - val_acc: 0.7830\n",
      "Epoch 20/20\n",
      "7982/7982 [==============================] - 1s 82us/step - loss: 0.0815 - acc: 0.9587 - val_loss: 1.3924 - val_acc: 0.7810\n"
     ]
    }
   ],
   "source": [
    "history = model.fit(partial_x_train,\n",
    "                    partial_y_train,\n",
    "                    epochs=20,\n",
    "                    batch_size=512,\n",
    "                    validation_data=(x_val, y_val))"
   ]
  },
  {
   "cell_type": "code",
   "execution_count": 14,
   "metadata": {},
   "outputs": [
    {
     "data": {
      "image/png": "[encoded data removed]",
      "text/plain": [
       "<Figure size 432x288 with 1 Axes>"
      ]
     },
     "metadata": {},
     "output_type": "display_data"
    }
   ],
   "source": [
    "import matplotlib.pyplot as plt\n",
    "\n",
    "loss = history.history['loss']\n",
    "val_loss = history.history['val_loss']\n",
    "epochs = range(1, len(loss) + 1)\n",
    "\n",
    "plt.plot(epochs, loss, 'bo', label='Training loss')\n",
    "plt.plot(epochs, val_loss, 'b', label='Validation loss')\n",
    "plt.title('Training and validation loss')\n",
    "plt.xlabel('Epochs')\n",
    "plt.ylabel('Loss')\n",
    "plt.legend()\n",
    "\n",
    "plt.show()"
   ]
  },
  {
   "cell_type": "code",
   "execution_count": 15,
   "metadata": {},
   "outputs": [
    {
     "data": {
      "image/png": "[encoded data removed]",
      "text/plain": [
       "<Figure size 432x288 with 1 Axes>"
      ]
     },
     "metadata": {},
     "output_type": "display_data"
    }
   ],
   "source": [
    "plt.clf()\n",
    "acc = history.history['acc']\n",
    "val_acc = history.history['val_acc']\n",
    "plt.plot(epochs, acc, 'bo', label='Training acc')\n",
    "plt.plot(epochs, val_acc, 'b', label='Validation acc')\n",
    "plt.title('Training and validation accuracy')\n",
    "plt.xlabel('Epochs')\n",
    "plt.ylabel('Loss')\n",
    "plt.legend()\n",
    "\n",
    "plt.show()"
   ]
  },
  {
   "cell_type": "code",
   "execution_count": 16,
   "metadata": {},
   "outputs": [
    {
     "name": "stdout",
     "output_type": "stream",
     "text": [
      "Train on 7982 samples, validate on 1000 samples\n",
      "Epoch 1/9\n",
      "7982/7982 [==============================] - 1s 94us/step - loss: 2.6983 - acc: 0.5244 - val_loss: 1.8312 - val_acc: 0.6480\n",
      "Epoch 2/9\n",
      "7982/7982 [==============================] - 1s 81us/step - loss: 1.4949 - acc: 0.6928 - val_loss: 1.3635 - val_acc: 0.7010\n",
      "Epoch 3/9\n",
      "7982/7982 [==============================] - 1s 82us/step - loss: 1.0956 - acc: 0.7628 - val_loss: 1.1740 - val_acc: 0.7380\n",
      "Epoch 4/9\n",
      "7982/7982 [==============================] - 1s 82us/step - loss: 0.8594 - acc: 0.8186 - val_loss: 1.0697 - val_acc: 0.7700\n",
      "Epoch 5/9\n",
      "7982/7982 [==============================] - 1s 82us/step - loss: 0.6855 - acc: 0.8611 - val_loss: 0.9788 - val_acc: 0.7860\n",
      "Epoch 6/9\n",
      "7982/7982 [==============================] - 1s 81us/step - loss: 0.5455 - acc: 0.8887 - val_loss: 0.9277 - val_acc: 0.8060\n",
      "Epoch 7/9\n",
      "7982/7982 [==============================] - 1s 83us/step - loss: 0.4362 - acc: 0.9110 - val_loss: 0.9035 - val_acc: 0.8100\n",
      "Epoch 8/9\n",
      "7982/7982 [==============================] - 1s 82us/step - loss: 0.3512 - acc: 0.9276 - val_loss: 0.8984 - val_acc: 0.8020\n",
      "Epoch 9/9\n",
      "7982/7982 [==============================] - 1s 82us/step - loss: 0.2919 - acc: 0.9362 - val_loss: 0.9069 - val_acc: 0.8010\n",
      "2246/2246 [==============================] - 0s 108us/step\n"
     ]
    },
    {
     "data": {
      "text/plain": [
       "[0.9932897859456172, 0.7845057881207521]"
      ]
     },
     "execution_count": 16,
     "metadata": {},
     "output_type": "execute_result"
    }
   ],
   "source": [
    "model = models.Sequential()\n",
    "model.add(layers.Dense(64, activation='relu', input_shape=(10000,)))\n",
    "model.add(layers.Dense(64, activation='relu'))\n",
    "model.add(layers.Dense(46, activation='softmax'))\n",
    "model.compile(optimizer='rmsprop',\n",
    "            loss='categorical_crossentropy',\n",
    "            metrics=['accuracy'])\n",
    "            model.fit(partial_x_train,\n",
    "            partial_y_train,\n",
    "            epochs=9,\n",
    "            batch_size=512,\n",
    "            validation_data=(x_val, y_val))\n",
    "results = model.evaluate(x_test, one_hot_test_labels)\n",
    "results"
   ]
  },
  {
   "cell_type": "code",
   "execution_count": 23,
   "metadata": {},
   "outputs": [
    {
     "data": {
      "text/plain": [
       "0.1856634016028495"
      ]
     },
     "execution_count": 23,
     "metadata": {},
     "output_type": "execute_result"
    }
   ],
   "source": [
    "import copy # randomly match labels\n",
    "\n",
    "test_labels_copy = copy.copy(test_labels)\n",
    "\n",
    "np.random.shuffle(test_labels_copy)\n",
    "hits_array = np.array(test_labels) == np.array(test_labels_copy)\n",
    "float(np.sum(hits_array)) / len(test_labels)"
   ]
  },
  {
   "cell_type": "code",
   "execution_count": 24,
   "metadata": {},
   "outputs": [],
   "source": [
    "predictions = model.predict(x_test)"
   ]
  },
  {
   "cell_type": "code",
   "execution_count": 46,
   "metadata": {},
   "outputs": [
    {
     "name": "stdout",
     "output_type": "stream",
     "text": [
      "Train on 7982 samples, validate on 1000 samples\n",
      "Epoch 1/20\n",
      "7982/7982 [==============================] - 1s 118us/step - loss: 1.8299 - acc: 0.6446 - val_loss: 1.1941 - val_acc: 0.7230\n",
      "Epoch 2/20\n",
      "7982/7982 [==============================] - 1s 87us/step - loss: 0.9329 - acc: 0.8018 - val_loss: 0.9482 - val_acc: 0.7940\n",
      "Epoch 3/20\n",
      "7982/7982 [==============================] - 1s 87us/step - loss: 0.6362 - acc: 0.8730 - val_loss: 0.8611 - val_acc: 0.8180\n",
      "Epoch 4/20\n",
      "7982/7982 [==============================] - 1s 87us/step - loss: 0.4550 - acc: 0.9070 - val_loss: 0.8062 - val_acc: 0.8250\n",
      "Epoch 5/20\n",
      "7982/7982 [==============================] - 1s 86us/step - loss: 0.3414 - acc: 0.9278 - val_loss: 0.7890 - val_acc: 0.8290\n",
      "Epoch 6/20\n",
      "7982/7982 [==============================] - 1s 87us/step - loss: 0.2656 - acc: 0.9407 - val_loss: 0.7980 - val_acc: 0.8260\n",
      "Epoch 7/20\n",
      "7982/7982 [==============================] - 1s 86us/step - loss: 0.2146 - acc: 0.9460 - val_loss: 0.8160 - val_acc: 0.8290\n",
      "Epoch 8/20\n",
      "7982/7982 [==============================] - 1s 86us/step - loss: 0.1826 - acc: 0.9510 - val_loss: 0.8491 - val_acc: 0.8260\n",
      "Epoch 9/20\n",
      "7982/7982 [==============================] - 1s 87us/step - loss: 0.1658 - acc: 0.9523 - val_loss: 0.8571 - val_acc: 0.8250\n",
      "Epoch 10/20\n",
      "7982/7982 [==============================] - 1s 86us/step - loss: 0.1479 - acc: 0.9551 - val_loss: 0.8893 - val_acc: 0.8210\n",
      "Epoch 11/20\n",
      "7982/7982 [==============================] - 1s 87us/step - loss: 0.1357 - acc: 0.9549 - val_loss: 0.9170 - val_acc: 0.8130\n",
      "Epoch 12/20\n",
      "7982/7982 [==============================] - 1s 86us/step - loss: 0.1278 - acc: 0.9569 - val_loss: 0.9425 - val_acc: 0.8150\n",
      "Epoch 13/20\n",
      "7982/7982 [==============================] - 1s 86us/step - loss: 0.1218 - acc: 0.9564 - val_loss: 0.9954 - val_acc: 0.8070\n",
      "Epoch 14/20\n",
      "7982/7982 [==============================] - 1s 87us/step - loss: 0.1151 - acc: 0.9589 - val_loss: 0.9981 - val_acc: 0.8130\n",
      "Epoch 15/20\n",
      "7982/7982 [==============================] - 1s 86us/step - loss: 0.1151 - acc: 0.9574 - val_loss: 1.0195 - val_acc: 0.8070\n",
      "Epoch 16/20\n",
      "7982/7982 [==============================] - 1s 87us/step - loss: 0.1097 - acc: 0.9585 - val_loss: 1.0592 - val_acc: 0.8070\n",
      "Epoch 17/20\n",
      "7982/7982 [==============================] - 1s 86us/step - loss: 0.1081 - acc: 0.9577 - val_loss: 1.0809 - val_acc: 0.8110\n",
      "Epoch 18/20\n",
      "7982/7982 [==============================] - 1s 87us/step - loss: 0.1082 - acc: 0.9563 - val_loss: 1.0962 - val_acc: 0.8010\n",
      "Epoch 19/20\n",
      "7982/7982 [==============================] - 1s 86us/step - loss: 0.1032 - acc: 0.9568 - val_loss: 1.0937 - val_acc: 0.8140\n",
      "Epoch 20/20\n",
      "7982/7982 [==============================] - 1s 86us/step - loss: 0.1040 - acc: 0.9582 - val_loss: 1.0901 - val_acc: 0.8070\n"
     ]
    },
    {
     "data": {
      "text/plain": [
       "<keras.callbacks.History at 0x7f9330172e80>"
      ]
     },
     "execution_count": 46,
     "metadata": {},
     "output_type": "execute_result"
    }
   ],
   "source": [
    "model = models.Sequential()\n",
    "model.add(layers.Dense(64, activation='relu', input_shape=(10000,)))\n",
    "model.add(layers.Dense(46, activation='softmax'))\n",
    "model.compile(optimizer='rmsprop',\n",
    "loss='categorical_crossentropy',\n",
    "metrics=['accuracy'])\n",
    "model.fit(partial_x_train,\n",
    "partial_y_train,\n",
    "epochs=9,\n",
    "batch_size=128,\n",
    "validation_data=(x_val, y_val))"
   ]
  },
  {
   "cell_type": "code",
   "execution_count": null,
   "metadata": {},
   "outputs": [],
   "source": []
  }
 ],
 "metadata": {
  "kernelspec": {
   "display_name": "Python 3",
   "language": "python",
   "name": "python3"
  },
  "language_info": {
   "codemirror_mode": {
    "name": "ipython",
    "version": 3
   },
   "file_extension": ".py",
   "mimetype": "text/x-python",
   "name": "python",
   "nbconvert_exporter": "python",
   "pygments_lexer": "ipython3",
   "version": "3.5.2"
  }
 },
 "nbformat": 4,
 "nbformat_minor": 2
}
